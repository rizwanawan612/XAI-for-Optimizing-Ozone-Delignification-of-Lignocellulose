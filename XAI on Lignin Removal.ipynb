{
 "cells": [
  {
   "cell_type": "code",
   "execution_count": null,
   "id": "cd35c7fd-756a-440a-92bb-74b8d3d45d90",
   "metadata": {},
   "outputs": [],
   "source": [
    "# Load Libraries\n",
    "import pandas as pd\n",
    "import numpy as np\n",
    "#import seaborn as sns\n",
    "import matplotlib.pyplot as plt\n",
    "import seaborn as sns\n",
    "\n",
    "from scipy import stats\n",
    "\n",
    "from sklearn.linear_model import LinearRegression\n",
    "from sklearn.linear_model import Lasso\n",
    "from sklearn.linear_model import Ridge\n",
    "\n",
    "from sklearn.metrics import r2_score\n",
    "\n",
    "from sklearn.svm import SVC\n",
    "from sklearn.linear_model import LogisticRegression\n",
    "from sklearn.ensemble import RandomForestClassifier\n",
    "from sklearn.model_selection import train_test_split\n",
    "from sklearn.metrics import f1_score,multilabel_confusion_matrix, confusion_matrix\n",
    "\n",
    "result_dict = {}"
   ]
  },
  {
   "cell_type": "code",
   "execution_count": null,
   "id": "b2e25f88-085e-48bd-8ea3-2b1065a5f250",
   "metadata": {},
   "outputs": [],
   "source": [
    "import warnings\n",
    "warnings.filterwarnings('ignore')"
   ]
  },
  {
   "cell_type": "code",
   "execution_count": null,
   "id": "ed29c94a-6ab8-4df6-a379-7d429ca523fe",
   "metadata": {},
   "outputs": [],
   "source": [
    "df = pd.read_csv(\"AI data.csv\")\n",
    "df.head()"
   ]
  },
  {
   "cell_type": "code",
   "execution_count": null,
   "id": "f772d988-f639-4571-b542-c3c84ed1bb59",
   "metadata": {},
   "outputs": [],
   "source": [
    "df.info()"
   ]
  },
  {
   "cell_type": "code",
   "execution_count": null,
   "id": "f63bcdd7-6910-4a75-afb6-28b56de1c631",
   "metadata": {},
   "outputs": [],
   "source": [
    "df.describe()"
   ]
  },
  {
   "cell_type": "code",
   "execution_count": null,
   "id": "7dd383fe-fe06-4a12-841d-16944ea5d3cb",
   "metadata": {},
   "outputs": [],
   "source": [
    "# Seaborn setting                                                                                                                                              \n",
    "sns.set(style='whitegrid', rc={\"font.size\":10,\"axes.titlesize\":12,\"axes.labelsize\":12})\n",
    "sns.set_style(\"whitegrid\", {'axes.grid' : False})\n",
    "sns.set_context(\"paper\", font_scale=2.0)                                                  \n",
    "plt.figure(figsize=(2.5, 2.5)) # Two column paper. Each column is about 3.15 inch wide.                                                                                                                                                                                                                                 \n",
    "color = sns.color_palette(\"Set2\", 6)"
   ]
  },
  {
   "cell_type": "code",
   "execution_count": null,
   "id": "c85779c9-9bed-4614-940a-4f2c7898e90a",
   "metadata": {},
   "outputs": [],
   "source": [
    "sns.pairplot(df, kind=\"scatter\")\n",
    "plt.savefig('Correlation Matrix Plot.png', dpi=600, bbox_inches='tight')"
   ]
  },
  {
   "cell_type": "code",
   "execution_count": null,
   "id": "8f5fc85d-4dfe-429d-ba5b-fc5ad9b61fa6",
   "metadata": {},
   "outputs": [],
   "source": [
    "# Calculate correlation coefficient\n",
    "def corrfunc(x, y, **kws):\n",
    "    r, _ = stats.pearsonr(x, y)\n",
    "    ax = plt.gca()\n",
    "    ax.annotate(\"r = {:.2f}\".format(r),\n",
    "                xy=(.1, .6), xycoords=ax.transAxes,\n",
    "               size = 18)\n",
    "    \n",
    "#cmap = sns.cubehelix_palette(light=1, dark = 0.1,\n",
    " #                            hue = 0.5, as_cmap=True)\n",
    "\n",
    "sns.set_context(font_scale=2)\n",
    "\n",
    "# Pair grid set up\n",
    "g = sns.PairGrid(df)\n",
    "\n",
    "# Scatter plot on the upper triangle\n",
    "g.map_upper(plt.scatter, s=12, color = 'blue')\n",
    "\n",
    "# Distribution on the diagonal\n",
    "#g.map_diag(sns.distplot, kde=False, color = 'blue')\n",
    "g.map_diag(plt.hist, color = 'blue')\n",
    "\n",
    "# Density Plot and Correlation coefficients on the lower triangle\n",
    "#g.map_lower(sns.kdeplot, cmap = cmap)\n",
    "g.map_lower(corrfunc);\n",
    "\n",
    "plt.savefig('Correlation Matrix Plot with R-score.png', dpi=600, bbox_inches='tight')\n",
    "#plt.savefig('Correlation Matrix Plot with R-score.png', dpi=500)"
   ]
  },
  {
   "cell_type": "code",
   "execution_count": null,
   "id": "47c672f4-c7b9-4766-8746-3fedf03c7325",
   "metadata": {},
   "outputs": [],
   "source": [
    "sns.boxplot(x='flow_rate', y='% lignin removed', data=df)\n",
    "plt.savefig('boxplot_IC.png', dpi=600, bbox_inches='tight')"
   ]
  },
  {
   "cell_type": "code",
   "execution_count": null,
   "id": "ddbd3dfe-7700-4c37-9258-bbb7fdcc9c66",
   "metadata": {},
   "outputs": [],
   "source": [
    "sns.boxplot(x='Time', y='L-unreacted', data=df)\n",
    "plt.savefig('boxplot_IC.png', dpi=600, bbox_inches='tight')"
   ]
  },
  {
   "cell_type": "code",
   "execution_count": null,
   "id": "23fc0d46-8fb7-4446-8646-e081555b4851",
   "metadata": {},
   "outputs": [],
   "source": [
    "sns.boxplot(x='Time', y='O3 Supplied', data=df)\n",
    "plt.savefig('boxplot_IC.png', dpi=600, bbox_inches='tight')"
   ]
  },
  {
   "cell_type": "code",
   "execution_count": null,
   "id": "98d41fd7-a243-418a-9d48-89cb45264ad5",
   "metadata": {},
   "outputs": [],
   "source": [
    "fig= plt.figure(figsize=(12,6))\n",
    "df_1=df.drop('% lignin removed', axis=1)\n",
    "# df_1.boxplot()\n",
    "sns.boxplot(data=df_1)\n",
    "plt.savefig('boxplot.png', dpi=500, bbox_inches='tight')"
   ]
  },
  {
   "cell_type": "code",
   "execution_count": null,
   "id": "74569ddc-da3e-497a-91f5-30e91dcc37c9",
   "metadata": {},
   "outputs": [],
   "source": [
    "pip install pycaret"
   ]
  },
  {
   "cell_type": "code",
   "execution_count": null,
   "id": "129c74ed-f77a-41fd-bd0f-595dfb79d6db",
   "metadata": {},
   "outputs": [],
   "source": [
    "from pycaret.datasets import get_data\n",
    "from pycaret.regression import *\n",
    "\n",
    "# Load a regression dataset from PyCaret's sample datasets\n",
    "# data = data1\n",
    "\n",
    "# Initialize the regression setup\n",
    "regression_setup = setup(df, target='% lignin removed',fold=10, train_size=0.8, normalize=True)"
   ]
  },
  {
   "cell_type": "code",
   "execution_count": null,
   "id": "c7ede19f-10dc-4650-b5ab-1603ba7b8614",
   "metadata": {},
   "outputs": [],
   "source": [
    "# Compare different regression models\n",
    "best_model = compare_models(fold=10)"
   ]
  },
  {
   "cell_type": "code",
   "execution_count": null,
   "id": "5b0bbe89-f7a1-4041-aae7-b6cb3e46bee1",
   "metadata": {},
   "outputs": [],
   "source": [
    "# Compare different regression models\n",
    "best_model = compare_models(fold=10, sort='RMSE')"
   ]
  },
  {
   "cell_type": "code",
   "execution_count": null,
   "id": "fff66c50-f8cb-460b-bf9a-aaec2e0a4725",
   "metadata": {},
   "outputs": [],
   "source": [
    "# Compare different regression models\n",
    "best_model = compare_models(fold=10, sort='R2')"
   ]
  },
  {
   "cell_type": "code",
   "execution_count": null,
   "id": "2b566883-5822-42dc-a920-d9438c5ff8bc",
   "metadata": {},
   "outputs": [],
   "source": [
    "# Create a model using the best performing algorithm\n",
    "final_model = create_model(best_model, fold=10)"
   ]
  },
  {
   "cell_type": "code",
   "execution_count": null,
   "id": "d4beaece-8308-4c28-8c61-26381dd55dd9",
   "metadata": {},
   "outputs": [],
   "source": [
    "compare_models()"
   ]
  },
  {
   "cell_type": "code",
   "execution_count": null,
   "id": "e74c7998-65c7-49a1-b109-249fcf8a624c",
   "metadata": {},
   "outputs": [],
   "source": [
    "from pycaret.datasets import get_data\n",
    "from pycaret.regression import *\n",
    "\n",
    "# Plot residuals\n",
    "plot_model(final_model, plot='residuals')"
   ]
  },
  {
   "cell_type": "code",
   "execution_count": null,
   "id": "a5ba910a-cd93-471b-8da0-ff94ed77a70b",
   "metadata": {},
   "outputs": [],
   "source": [
    "# Plot prediction error\n",
    "plot_model(final_model, plot='error')"
   ]
  },
  {
   "cell_type": "code",
   "execution_count": null,
   "id": "63966659-3af3-4700-a54a-f4990b04c9a2",
   "metadata": {},
   "outputs": [],
   "source": [
    "# Plot learning curve\n",
    "plot_model(final_model, plot='learning')"
   ]
  },
  {
   "cell_type": "code",
   "execution_count": null,
   "id": "26cfbe60-92dd-4ae4-bc12-af7b7aaf8851",
   "metadata": {},
   "outputs": [],
   "source": [
    "# Evaluate the final model\n",
    "evaluate_model(final_model)"
   ]
  },
  {
   "cell_type": "code",
   "execution_count": null,
   "id": "7b2ca25b-f28a-4b6f-a158-a792b7302f2d",
   "metadata": {},
   "outputs": [],
   "source": [
    "pip install shap"
   ]
  },
  {
   "cell_type": "code",
   "execution_count": null,
   "id": "6acd43ec-9b37-4f25-8491-22b8e2e7e48d",
   "metadata": {},
   "outputs": [],
   "source": [
    "# # Interpret the model using SHAP values\n",
    "interpret_model(final_model)"
   ]
  },
  {
   "cell_type": "code",
   "execution_count": null,
   "id": "de6158c4-b014-4529-a9da-753f84046cd6",
   "metadata": {},
   "outputs": [],
   "source": []
  }
 ],
 "metadata": {
  "kernelspec": {
   "display_name": "Python 3 (ipykernel)",
   "language": "python",
   "name": "python3"
  },
  "language_info": {
   "codemirror_mode": {
    "name": "ipython",
    "version": 3
   },
   "file_extension": ".py",
   "mimetype": "text/x-python",
   "name": "python",
   "nbconvert_exporter": "python",
   "pygments_lexer": "ipython3",
   "version": "3.9.13"
  }
 },
 "nbformat": 4,
 "nbformat_minor": 5
}
